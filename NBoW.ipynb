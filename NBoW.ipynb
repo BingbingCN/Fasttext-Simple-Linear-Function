{
 "cells": [
  {
   "cell_type": "code",
   "execution_count": 35,
   "metadata": {},
   "outputs": [],
   "source": [
    "import os\n",
    "os.environ['KMP_DUPLICATE_LIB_OK']=\"TRUE\""
   ]
  },
  {
   "cell_type": "code",
   "execution_count": 36,
   "outputs": [],
   "source": [
    "import functools\n",
    "import sys\n",
    "import matplotlib.pyplot as plt\n",
    "import numpy as np\n",
    "import pandas as pd\n",
    "import torch.nn as nn\n",
    "import torch.optim as optim\n",
    "import torch\n",
    "import torchtext\n",
    "import datasets\n",
    "import tqdm"
   ],
   "metadata": {
    "collapsed": false,
    "pycharm": {
     "name": "#%%\n"
    }
   }
  },
  {
   "cell_type": "code",
   "execution_count": 37,
   "metadata": {
    "pycharm": {
     "name": "#%%\n"
    }
   },
   "outputs": [],
   "source": [
    "#使用随机种子：我们的实验都可以得到相同的结果，测量模型的方差\n",
    "seed=0\n",
    "torch.manual_seed(seed)\n",
    "np.random.seed(seed)"
   ]
  },
  {
   "cell_type": "code",
   "execution_count": 38,
   "metadata": {
    "pycharm": {
     "name": "#%%\n"
    }
   },
   "outputs": [
    {
     "name": "stderr",
     "output_type": "stream",
     "text": [
      "Using the latest cached version of the module from C:\\Users\\Bingbing\\.cache\\huggingface\\modules\\datasets_modules\\datasets\\imdb\\3209821c5855b9d6c552b4c952dba9c46c354c36e69eacdd07eb70a4bf82f1c1 (last modified on Wed Mar  9 16:54:22 2022) since it couldn't be found locally at imdb., or remotely on the Hugging Face Hub.\n",
      "Reusing dataset imdb (C:\\Users\\Bingbing\\.cache\\huggingface\\datasets\\imdb\\plain_text\\1.0.0\\3209821c5855b9d6c552b4c952dba9c46c354c36e69eacdd07eb70a4bf82f1c1)\n"
     ]
    },
    {
     "data": {
      "text/plain": "  0%|          | 0/2 [00:00<?, ?it/s]",
      "application/vnd.jupyter.widget-view+json": {
       "version_major": 2,
       "version_minor": 0,
       "model_id": "e65c061e06514111aa76929526cdfceb"
      }
     },
     "metadata": {},
     "output_type": "display_data"
    }
   ],
   "source": [
    "train_data,test_data=datasets.load_dataset('imdb',split=['train','test'])"
   ]
  },
  {
   "cell_type": "code",
   "execution_count": 39,
   "metadata": {
    "pycharm": {
     "name": "#%%\n"
    }
   },
   "outputs": [
    {
     "data": {
      "text/plain": "(Dataset({\n     features: ['text', 'label'],\n     num_rows: 25000\n }),\n Dataset({\n     features: ['text', 'label'],\n     num_rows: 25000\n }))"
     },
     "execution_count": 39,
     "metadata": {},
     "output_type": "execute_result"
    }
   ],
   "source": [
    "train_data,test_data"
   ]
  },
  {
   "cell_type": "code",
   "execution_count": 40,
   "metadata": {
    "pycharm": {
     "name": "#%%\n"
    }
   },
   "outputs": [
    {
     "data": {
      "text/plain": "{'text': Value(dtype='string', id=None),\n 'label': ClassLabel(num_classes=2, names=['neg', 'pos'], id=None)}"
     },
     "execution_count": 40,
     "metadata": {},
     "output_type": "execute_result"
    }
   ],
   "source": [
    "train_data.features"
   ]
  },
  {
   "cell_type": "code",
   "execution_count": 41,
   "metadata": {
    "pycharm": {
     "name": "#%%\n"
    }
   },
   "outputs": [
    {
     "data": {
      "text/plain": "{'text': 'I rented I AM CURIOUS-YELLOW from my video store because of all the controversy that surrounded it when it was first released in 1967. I also heard that at first it was seized by U.S. customs if it ever tried to enter this country, therefore being a fan of films considered \"controversial\" I really had to see this for myself.<br /><br />The plot is centered around a young Swedish drama student named Lena who wants to learn everything she can about life. In particular she wants to focus her attentions to making some sort of documentary on what the average Swede thought about certain political issues such as the Vietnam War and race issues in the United States. In between asking politicians and ordinary denizens of Stockholm about their opinions on politics, she has sex with her drama teacher, classmates, and married men.<br /><br />What kills me about I AM CURIOUS-YELLOW is that 40 years ago, this was considered pornographic. Really, the sex and nudity scenes are few and far between, even then it\\'s not shot like some cheaply made porno. While my countrymen mind find it shocking, in reality sex and nudity are a major staple in Swedish cinema. Even Ingmar Bergman, arguably their answer to good old boy John Ford, had sex scenes in his films.<br /><br />I do commend the filmmakers for the fact that any sex shown in the film is shown for artistic purposes rather than just to shock people and make money to be shown in pornographic theaters in America. I AM CURIOUS-YELLOW is a good film for anyone wanting to study the meat and potatoes (no pun intended) of Swedish cinema. But really, this film doesn\\'t have much of a plot.',\n 'label': 0}"
     },
     "execution_count": 41,
     "metadata": {},
     "output_type": "execute_result"
    }
   ],
   "source": [
    "train_data[0]"
   ]
  },
  {
   "cell_type": "code",
   "execution_count": 42,
   "metadata": {
    "pycharm": {
     "name": "#%%\n"
    }
   },
   "outputs": [
    {
     "data": {
      "text/plain": "['hello',\n 'world',\n '!',\n 'how',\n 'are',\n 'you',\n 'doing',\n 'today',\n '?',\n 'i',\n \"'\",\n 'm',\n 'doing',\n 'fantastic',\n '!']"
     },
     "execution_count": 42,
     "metadata": {},
     "output_type": "execute_result"
    }
   ],
   "source": [
    "#下面通过分词器将字符的数据转化为数字的形式\n",
    "tokenizer=torchtext.data.get_tokenizer(\"basic_english\")\n",
    "tokenizer(\"Hello world! How are you doing today? I'm doing fantastic!\")"
   ]
  },
  {
   "cell_type": "code",
   "execution_count": 43,
   "metadata": {
    "pycharm": {
     "name": "#%%\n"
    }
   },
   "outputs": [],
   "source": [
    "#使用map的方法将函数应用到dataset类的每个实例中\n",
    "def tokenize_example(example,tokenizer,max_length):\n",
    "    tokens=tokenizer(example['text'][:max_length])\n",
    "    return {'tokens':tokens}"
   ]
  },
  {
   "cell_type": "code",
   "execution_count": 44,
   "metadata": {
    "pycharm": {
     "name": "#%%\n"
    }
   },
   "outputs": [
    {
     "name": "stderr",
     "output_type": "stream",
     "text": [
      "Loading cached processed dataset at C:\\Users\\Bingbing\\.cache\\huggingface\\datasets\\imdb\\plain_text\\1.0.0\\3209821c5855b9d6c552b4c952dba9c46c354c36e69eacdd07eb70a4bf82f1c1\\cache-344487d0bdc3745d.arrow\n",
      "Loading cached processed dataset at C:\\Users\\Bingbing\\.cache\\huggingface\\datasets\\imdb\\plain_text\\1.0.0\\3209821c5855b9d6c552b4c952dba9c46c354c36e69eacdd07eb70a4bf82f1c1\\cache-93ec70e4e82ad6ac.arrow\n"
     ]
    }
   ],
   "source": [
    "max_length = 256\n",
    "train_data = train_data.map(tokenize_example, fn_kwargs={'tokenizer': tokenizer, 'max_length': max_length})\n",
    "valid_data = test_data.map(tokenize_example, fn_kwargs={'tokenizer': tokenizer, 'max_length': max_length})"
   ]
  },
  {
   "cell_type": "code",
   "execution_count": 45,
   "metadata": {
    "pycharm": {
     "name": "#%%\n"
    }
   },
   "outputs": [
    {
     "data": {
      "text/plain": "Dataset({\n    features: ['text', 'label', 'tokens'],\n    num_rows: 25000\n})"
     },
     "execution_count": 45,
     "metadata": {},
     "output_type": "execute_result"
    }
   ],
   "source": [
    "train_data"
   ]
  },
  {
   "cell_type": "code",
   "execution_count": 46,
   "metadata": {
    "pycharm": {
     "name": "#%%\n"
    }
   },
   "outputs": [
    {
     "name": "stderr",
     "output_type": "stream",
     "text": [
      "Loading cached split indices for dataset at C:\\Users\\Bingbing\\.cache\\huggingface\\datasets\\imdb\\plain_text\\1.0.0\\3209821c5855b9d6c552b4c952dba9c46c354c36e69eacdd07eb70a4bf82f1c1\\cache-155919d1b392c3a5.arrow and C:\\Users\\Bingbing\\.cache\\huggingface\\datasets\\imdb\\plain_text\\1.0.0\\3209821c5855b9d6c552b4c952dba9c46c354c36e69eacdd07eb70a4bf82f1c1\\cache-f133bcd25adddba9.arrow\n"
     ]
    }
   ],
   "source": [
    "#使用dataset对象中的train_test_split方法进行分割，具体的使用方法如下：\n",
    "test_size=0.25\n",
    "train_valid_data=train_data.train_test_split(test_size=test_size)\n",
    "train_data=train_valid_data['train']\n",
    "test_data=train_valid_data['test']"
   ]
  },
  {
   "cell_type": "code",
   "execution_count": 47,
   "metadata": {
    "pycharm": {
     "name": "#%%\n"
    }
   },
   "outputs": [],
   "source": [
    "#建立词汇表： <unk>:表示低频词未在词表中的词，<pad>补全字符\n",
    "min_freq=5\n",
    "special_tokens=['<unk>','<pad>']\n",
    "vocab=torchtext.vocab.build_vocab_from_iterator(train_data['tokens'],min_freq=min_freq,specials=special_tokens)"
   ]
  },
  {
   "cell_type": "code",
   "execution_count": 48,
   "metadata": {
    "pycharm": {
     "name": "#%%\n"
    }
   },
   "outputs": [
    {
     "data": {
      "text/plain": "9679"
     },
     "execution_count": 48,
     "metadata": {},
     "output_type": "execute_result"
    }
   ],
   "source": [
    "len(vocab)"
   ]
  },
  {
   "cell_type": "code",
   "execution_count": 49,
   "metadata": {
    "pycharm": {
     "name": "#%%\n"
    }
   },
   "outputs": [
    {
     "data": {
      "text/plain": "['<unk>', '<pad>', 'the', '.', ',', 'a', 'of', 'i', 'and', \"'\"]"
     },
     "execution_count": 49,
     "metadata": {},
     "output_type": "execute_result"
    }
   ],
   "source": [
    "#直接查看词汇表\n",
    "vocab.get_itos()[:10]"
   ]
  },
  {
   "cell_type": "code",
   "execution_count": 50,
   "metadata": {
    "pycharm": {
     "name": "#%%\n"
    }
   },
   "outputs": [],
   "source": [
    "#让默认的索引和unk_token的索引相同\n",
    "vocab.set_default_index(vocab['<unk>'])"
   ]
  },
  {
   "cell_type": "code",
   "execution_count": 51,
   "metadata": {
    "pycharm": {
     "name": "#%%\n"
    }
   },
   "outputs": [
    {
     "data": {
      "text/plain": "0"
     },
     "execution_count": 51,
     "metadata": {},
     "output_type": "execute_result"
    }
   ],
   "source": [
    "vocab['some_token']"
   ]
  },
  {
   "cell_type": "code",
   "execution_count": 52,
   "metadata": {
    "pycharm": {
     "name": "#%%\n"
    }
   },
   "outputs": [],
   "source": [
    "#增加数字的属性，将单词转化为one——hot编码\n",
    "def numericalize_data(example, vocab):\n",
    "    ids = [vocab[token] for token in example['tokens']]\n",
    "    return {'ids': ids}"
   ]
  },
  {
   "cell_type": "code",
   "execution_count": 53,
   "metadata": {
    "pycharm": {
     "name": "#%%\n"
    }
   },
   "outputs": [
    {
     "name": "stderr",
     "output_type": "stream",
     "text": [
      "Loading cached processed dataset at C:\\Users\\Bingbing\\.cache\\huggingface\\datasets\\imdb\\plain_text\\1.0.0\\3209821c5855b9d6c552b4c952dba9c46c354c36e69eacdd07eb70a4bf82f1c1\\cache-97e26637059f0b26.arrow\n",
      "Loading cached processed dataset at C:\\Users\\Bingbing\\.cache\\huggingface\\datasets\\imdb\\plain_text\\1.0.0\\3209821c5855b9d6c552b4c952dba9c46c354c36e69eacdd07eb70a4bf82f1c1\\cache-05e7650b39a27927.arrow\n",
      "Loading cached processed dataset at C:\\Users\\Bingbing\\.cache\\huggingface\\datasets\\imdb\\plain_text\\1.0.0\\3209821c5855b9d6c552b4c952dba9c46c354c36e69eacdd07eb70a4bf82f1c1\\cache-db4ff06ea7032d45.arrow\n"
     ]
    }
   ],
   "source": [
    "train_data=train_data.map(numericalize_data,fn_kwargs={'vocab':vocab})\n",
    "valid_data=valid_data.map(numericalize_data,fn_kwargs={'vocab':vocab})\n",
    "test_data=valid_data.map(numericalize_data,fn_kwargs={'vocab':vocab})"
   ]
  },
  {
   "cell_type": "code",
   "execution_count": 54,
   "metadata": {
    "pycharm": {
     "name": "#%%\n"
    }
   },
   "outputs": [
    {
     "data": {
      "text/plain": "{'text': 'Ya know when one looks at this Brian DePalma film today, I\\'m sure there has been allot of criticism about how dated it is. Also, about the violence. When I looked at this film on VHS when I was 20, I thought it was ulta-violent and gritty as well. But I didn\\'t get \\'it\\'.<br /><br />A few decades go by and man, how I know how much I didn\\'t get in this film!! This is a remake of an excellent film which was done back in the 30\\'s/40\\'s. How can you improve upon a classic? Ya don\\'t. But you tell a tale that is brought up to date through the eyes of the \"new immigrants\" during the most greed ridden decade, the over indulgent 80\\'s. DePalma, Stone and the gang present an ambitious, disturbing and darn right good film.<br /><br />Yes....Disco was dying and New Wave/Punk were taking over but these immigrants from Cuba who had to make a new home in Florida couldn\\'t tell the difference. It was exciting, it was what they wanted but how to get it???? To these immigrants, there was only one way to get it in Florida where they were..by having lots of money and to get the money, you had to take over running a drug empire.<br /><br />Al Pacino was fantastic to me as Tony Montana, the \"little train that could\". What an amazing way to have your lead character look at America: to fight, kill, steal. lie, cheat all to get -- \"the money, the women and the power.\"<br /><br />That\\'s what Tony saw as the American dream.<br /><br />He wanted it, he wanted to live it and in his circle saw nothing wrong with how he went to get it. Tony Montana\\'s command of the English language was heavily saturated with the \"f\" word but what did you expect, Emily Post\\'s finishing school for him and his co-horts? Look at how they CAME to America, what they knew, what they were exposed to. This is the way Tony and his crew chose to \"be all they can be in America.\" It was all about the power. Tony Montana would and did ANYTHING to achieve it..it all its violent, lying, stealing, crooked, thieving glory.<br /><br />The part of the film that personified the 1980\\'s to me, is the money laundering. Tony\\'s crew bringing sacks of drug money to the bank. Did those around Tony and his crew care? At the clubs where he spent and drank? Nope. Money was money and with money, you get the power. Tony was living high off the hog. He and his pretty blond American trophy he married played well by Michelle Pfieffer.<br /><br />After Tony Montana\\'s rise to power, he finds out its really crappy up there. He\\'s riddled with doubt, he\\'s drug addicted, he\\'s paranoid, he\\'s surrounded by those who want to take him on in a bloody take-over, his trophy 80\\'s American blonde drug addicted wife he finds out is a bore, he needs to keep atop of his empire because...he\\'s going down. And down he goes in a horrific violent fashion, but again I ask, what do you expect?<br /><br />This is the quintessential 1980\\'s film telling you a warped tale of how some misunderstand the American Dream...to obsession. It\\'s violent, bloody, overly so..but it drives the point disturbingly home. Not all Cubans thrown out of Cuba who landed in Florida in the 80\\'s were anything like Tony Montana. Give me a break. But the showing of how miserable the 1980\\'s were with its emphasis on greed and money as the only measures in the USA to \"be somebody\" and have power took its tool on these poor characters and their lives in America.<br /><br />Makes you wonder -- has anything from then -- been learned today?',\n 'label': 1,\n 'tokens': ['ya',\n  'know',\n  'when',\n  'one',\n  'looks',\n  'at',\n  'this',\n  'brian',\n  'depalma',\n  'film',\n  'today',\n  ',',\n  'i',\n  \"'\",\n  'm',\n  'sure',\n  'there',\n  'has',\n  'been',\n  'allot',\n  'of',\n  'criticism',\n  'about',\n  'how',\n  'dated',\n  'it',\n  'is',\n  '.',\n  'also',\n  ',',\n  'about',\n  'the',\n  'violence',\n  '.',\n  'when',\n  'i',\n  'looked',\n  'at',\n  'this',\n  'film',\n  'on',\n  'vhs',\n  'when',\n  'i',\n  'was',\n  '20',\n  ',',\n  'i',\n  'thought',\n  'it',\n  'was',\n  'ulta-violent',\n  'and',\n  'gritty',\n  'as',\n  'well',\n  '.',\n  'but',\n  'i',\n  'di'],\n 'ids': [4692,\n  120,\n  52,\n  27,\n  379,\n  36,\n  12,\n  1406,\n  6980,\n  19,\n  512,\n  4,\n  7,\n  9,\n  104,\n  263,\n  53,\n  46,\n  80,\n  0,\n  6,\n  3646,\n  37,\n  89,\n  1959,\n  11,\n  13,\n  3,\n  137,\n  4,\n  37,\n  2,\n  759,\n  3,\n  52,\n  7,\n  477,\n  36,\n  12,\n  19,\n  25,\n  1224,\n  52,\n  7,\n  17,\n  806,\n  4,\n  7,\n  131,\n  11,\n  17,\n  0,\n  8,\n  1917,\n  20,\n  88,\n  3,\n  22,\n  7,\n  2218]}"
     },
     "execution_count": 54,
     "metadata": {},
     "output_type": "execute_result"
    }
   ],
   "source": [
    "train_data[0]"
   ]
  },
  {
   "cell_type": "code",
   "execution_count": 55,
   "metadata": {
    "pycharm": {
     "name": "#%%\n"
    }
   },
   "outputs": [],
   "source": [
    "#将其转化为tensor的形式\n",
    "train_data=train_data.with_format(type='torch',columns=['ids','label'])\n",
    "valid_data=valid_data.with_format(type='torch',columns=['ids','label'])\n",
    "test_data=test_data.with_format(type='torch',columns=['ids','label'])"
   ]
  },
  {
   "cell_type": "code",
   "execution_count": 56,
   "metadata": {
    "pycharm": {
     "name": "#%%\n"
    }
   },
   "outputs": [
    {
     "data": {
      "text/plain": "{'label': tensor(1),\n 'ids': tensor([4692,  120,   52,   27,  379,   36,   12, 1406, 6980,   19,  512,    4,\n            7,    9,  104,  263,   53,   46,   80,    0,    6, 3646,   37,   89,\n         1959,   11,   13,    3,  137,    4,   37,    2,  759,    3,   52,    7,\n          477,   36,   12,   19,   25, 1224,   52,    7,   17,  806,    4,    7,\n          131,   11,   17,    0,    8, 1917,   20,   88,    3,   22,    7, 2218])}"
     },
     "execution_count": 56,
     "metadata": {},
     "output_type": "execute_result"
    }
   ],
   "source": [
    "train_data[0]"
   ]
  },
  {
   "cell_type": "code",
   "execution_count": 57,
   "metadata": {
    "pycharm": {
     "name": "#%%\n"
    }
   },
   "outputs": [
    {
     "data": {
      "text/plain": "1"
     },
     "execution_count": 57,
     "metadata": {},
     "output_type": "execute_result"
    }
   ],
   "source": [
    "pad_index = vocab['<pad>']\n",
    "pad_index"
   ]
  },
  {
   "cell_type": "code",
   "execution_count": 58,
   "metadata": {
    "pycharm": {
     "name": "#%%\n"
    }
   },
   "outputs": [],
   "source": [
    "def collate(batch,pad_index):\n",
    "    batch_ids = [i['ids'] for i in batch]\n",
    "    batch_ids = nn.utils.rnn.pad_sequence(batch_ids, padding_value=pad_index, batch_first=True)\n",
    "    batch_label = [i['label'] for i in batch]\n",
    "    batch_label = torch.stack(batch_label)\n",
    "    batch = {'ids': batch_ids,\n",
    "             'label': batch_label}\n",
    "    return batch"
   ]
  },
  {
   "cell_type": "code",
   "execution_count": 59,
   "metadata": {
    "pycharm": {
     "name": "#%%\n"
    }
   },
   "outputs": [],
   "source": [
    "batch_size=512\n",
    "collate=functools.partial(collate,pad_index=pad_index)\n",
    "# merges a list of samples to form a mini-batch of Tensor(s). Used when using batched loading from a map-style dataset.\n",
    "train_dataloader = torch.utils.data.DataLoader(train_data,\n",
    "                                               batch_size=batch_size,\n",
    "                                               collate_fn=collate,\n",
    "                                               shuffle=True)\n",
    "valid_dataloader = torch.utils.data.DataLoader(valid_data, batch_size=batch_size, collate_fn=collate)\n",
    "test_dataloader = torch.utils.data.DataLoader(test_data, batch_size=batch_size, collate_fn=collate)"
   ]
  },
  {
   "cell_type": "code",
   "execution_count": 60,
   "metadata": {
    "pycharm": {
     "name": "#%%\n"
    }
   },
   "outputs": [],
   "source": [
    "class NBoW(nn.Module):\n",
    "    def __init__(self, vocab_size, embedding_dim, output_dim, pad_index):\n",
    "        super().__init__()\n",
    "        self.embedding = nn.Embedding(vocab_size, embedding_dim, padding_idx=pad_index)\n",
    "        self.fc = nn.Linear(embedding_dim, output_dim)\n",
    "    def forward(self, ids):\n",
    "        # ids = [batch size, seq len]\n",
    "        embedded = self.embedding(ids)\n",
    "        # embedded = [batch size, seq len, embedding dim]\n",
    "        pooled = embedded.mean(dim=1)\n",
    "        # pooled = [batch size, embedding dim]\n",
    "        prediction = self.fc(pooled)\n",
    "        # prediction = [batch size, output dim]\n",
    "        return prediction"
   ]
  },
  {
   "cell_type": "code",
   "execution_count": 61,
   "metadata": {
    "pycharm": {
     "name": "#%%\n"
    }
   },
   "outputs": [
    {
     "data": {
      "text/plain": "[1, 0]"
     },
     "execution_count": 61,
     "metadata": {},
     "output_type": "execute_result"
    }
   ],
   "source": [
    "train_data.unique('label')"
   ]
  },
  {
   "cell_type": "code",
   "execution_count": 62,
   "metadata": {
    "pycharm": {
     "name": "#%%\n"
    }
   },
   "outputs": [],
   "source": [
    "vocab_size=len(vocab)\n",
    "embedding_dim=300\n",
    "output_dim=len(train_data.unique('label'))\n",
    "model=NBoW(vocab_size=vocab_size,embedding_dim=embedding_dim,output_dim=output_dim,pad_index=pad_index)"
   ]
  },
  {
   "cell_type": "code",
   "execution_count": 63,
   "metadata": {
    "pycharm": {
     "name": "#%%\n"
    }
   },
   "outputs": [
    {
     "name": "stdout",
     "output_type": "stream",
     "text": [
      "The model has 2,904,302 trainable parameters\n"
     ]
    }
   ],
   "source": [
    "#模型参数的统计\n",
    "def count_parameters(model):\n",
    "    return sum(p.numel() for p in model.parameters() if p.requires_grad)\n",
    "print(f'The model has {count_parameters(model):,} trainable parameters')"
   ]
  },
  {
   "cell_type": "code",
   "execution_count": 64,
   "metadata": {
    "pycharm": {
     "name": "#%%\n"
    }
   },
   "outputs": [
    {
     "data": {
      "text/plain": "torch.Size([9679, 300])"
     },
     "execution_count": 64,
     "metadata": {},
     "output_type": "execute_result"
    }
   ],
   "source": [
    "vectors=torchtext.vocab.FastText()\n",
    "pretrained_embedding=vectors.get_vecs_by_tokens(vocab.get_itos())\n",
    "pretrained_embedding.shape"
   ]
  },
  {
   "cell_type": "code",
   "execution_count": 65,
   "metadata": {
    "pycharm": {
     "name": "#%%\n"
    }
   },
   "outputs": [],
   "source": [
    "#将使用fasttext预训练模型作为模型嵌入层的初始的参数权重\n",
    "model.embedding.weight.data=pretrained_embedding\n",
    "optimizer=optim.Adam(model.parameters())\n",
    "criterion=nn.CrossEntropyLoss()"
   ]
  },
  {
   "cell_type": "code",
   "execution_count": 66,
   "metadata": {
    "pycharm": {
     "name": "#%%\n"
    }
   },
   "outputs": [],
   "source": [
    "#计算accuracy\n",
    "def binary_accuracy(prediction, label):\n",
    "    batch_size, _ = prediction.shape\n",
    "    predicted_classes = prediction.argmax(dim=-1)\n",
    "    correct_predictions = predicted_classes.eq(label).sum()\n",
    "    accuracy = correct_predictions / batch_size\n",
    "    return accuracy\n",
    "def train(model,iterator,optimizer,lossfunction):\n",
    "    epoch_loss=[]\n",
    "    epoch_acc=[]\n",
    "    model.train()\n",
    "    count=0\n",
    "    for batch in tqdm.tqdm(iterator,desc='training....',file=sys.stdout):\n",
    "        ids = batch['ids']\n",
    "        label = batch['label']\n",
    "        optimizer.zero_grad()\n",
    "        prediction=model(ids)\n",
    "        loss=lossfunction(prediction,label)\n",
    "        acc=binary_accuracy(prediction,label)\n",
    "        loss.backward()\n",
    "        optimizer.step()\n",
    "        if(count%10==0):\n",
    "            epoch_loss.append(loss.item())\n",
    "            epoch_acc.append(acc.item())\n",
    "\n",
    "    return epoch_loss , epoch_acc"
   ]
  },
  {
   "cell_type": "code",
   "execution_count": 67,
   "metadata": {
    "pycharm": {
     "name": "#%%\n"
    }
   },
   "outputs": [],
   "source": [
    "def eval(model,iterator,lossfunction):\n",
    "    epoch_loss=[]\n",
    "    epoch_acc=[]\n",
    "    model.eval()\n",
    "    with torch.no_grad():\n",
    "        count=0\n",
    "        for batch in tqdm.tqdm(iterator,desc='evaluating....',file=sys.stdout):\n",
    "            ids = batch['ids']\n",
    "            label = batch['label']\n",
    "            optimizer.zero_grad()\n",
    "            prediction=model(ids)\n",
    "            loss=lossfunction(prediction,label)\n",
    "            acc=binary_accuracy(prediction,label)\n",
    "            count=count+1\n",
    "            if(count%10==0):\n",
    "                epoch_loss.append(loss.item())\n",
    "                epoch_acc.append(acc.item())\n",
    "    return epoch_loss , epoch_acc"
   ]
  },
  {
   "cell_type": "code",
   "execution_count": 84,
   "metadata": {
    "pycharm": {
     "name": "#%%%\n"
    }
   },
   "outputs": [
    {
     "name": "stdout",
     "output_type": "stream",
     "text": [
      "training....: 100%|██████████| 37/37 [00:06<00:00,  5.87it/s]\n",
      "evaluating....: 100%|██████████| 49/49 [00:06<00:00,  7.40it/s]\n",
      "epoch: 1\n",
      "train_loss: 0.655, train_acc: 0.670\n",
      "valid_loss: 0.643, valid_acc: 0.672\n",
      "training....: 100%|██████████| 37/37 [00:06<00:00,  5.69it/s]\n",
      "evaluating....: 100%|██████████| 49/49 [00:06<00:00,  7.47it/s]\n",
      "epoch: 2\n",
      "train_loss: 0.610, train_acc: 0.712\n",
      "valid_loss: 0.603, valid_acc: 0.710\n",
      "training....: 100%|██████████| 37/37 [00:06<00:00,  5.93it/s]\n",
      "evaluating....: 100%|██████████| 49/49 [00:06<00:00,  7.38it/s]\n",
      "epoch: 3\n",
      "train_loss: 0.558, train_acc: 0.749\n",
      "valid_loss: 0.563, valid_acc: 0.739\n",
      "training....: 100%|██████████| 37/37 [00:06<00:00,  5.73it/s]\n",
      "evaluating....: 100%|██████████| 49/49 [00:06<00:00,  7.27it/s]\n",
      "epoch: 4\n",
      "train_loss: 0.509, train_acc: 0.782\n",
      "valid_loss: 0.532, valid_acc: 0.754\n",
      "training....: 100%|██████████| 37/37 [00:06<00:00,  5.92it/s]\n",
      "evaluating....: 100%|██████████| 49/49 [00:07<00:00,  6.85it/s]\n",
      "epoch: 5\n",
      "train_loss: 0.468, train_acc: 0.803\n",
      "valid_loss: 0.510, valid_acc: 0.760\n",
      "training....: 100%|██████████| 37/37 [00:06<00:00,  5.78it/s]\n",
      "evaluating....: 100%|██████████| 49/49 [00:06<00:00,  7.02it/s]\n",
      "epoch: 6\n",
      "train_loss: 0.434, train_acc: 0.823\n",
      "valid_loss: 0.494, valid_acc: 0.762\n",
      "training....: 100%|██████████| 37/37 [00:06<00:00,  5.54it/s]\n",
      "evaluating....: 100%|██████████| 49/49 [00:06<00:00,  7.02it/s]\n",
      "epoch: 7\n",
      "train_loss: 0.407, train_acc: 0.835\n",
      "valid_loss: 0.487, valid_acc: 0.765\n",
      "training....: 100%|██████████| 37/37 [00:06<00:00,  5.54it/s]\n",
      "evaluating....: 100%|██████████| 49/49 [00:07<00:00,  6.64it/s]\n",
      "epoch: 8\n",
      "train_loss: 0.383, train_acc: 0.846\n",
      "valid_loss: 0.480, valid_acc: 0.776\n",
      "training....: 100%|██████████| 37/37 [00:06<00:00,  5.44it/s]\n",
      "evaluating....: 100%|██████████| 49/49 [00:07<00:00,  6.72it/s]\n",
      "epoch: 9\n",
      "train_loss: 0.364, train_acc: 0.855\n",
      "valid_loss: 0.478, valid_acc: 0.773\n",
      "training....: 100%|██████████| 37/37 [00:06<00:00,  5.31it/s]\n",
      "evaluating....: 100%|██████████| 49/49 [00:07<00:00,  6.39it/s]\n",
      "epoch: 10\n",
      "train_loss: 0.347, train_acc: 0.864\n",
      "valid_loss: 0.479, valid_acc: 0.771\n",
      "training....: 100%|██████████| 37/37 [00:07<00:00,  5.16it/s]\n",
      "evaluating....: 100%|██████████| 49/49 [00:07<00:00,  6.38it/s]\n",
      "epoch: 11\n",
      "train_loss: 0.333, train_acc: 0.872\n",
      "valid_loss: 0.482, valid_acc: 0.767\n",
      "training....: 100%|██████████| 37/37 [00:07<00:00,  4.94it/s]\n",
      "evaluating....: 100%|██████████| 49/49 [00:07<00:00,  6.16it/s]\n",
      "epoch: 12\n",
      "train_loss: 0.319, train_acc: 0.876\n",
      "valid_loss: 0.484, valid_acc: 0.765\n",
      "training....: 100%|██████████| 37/37 [00:08<00:00,  4.47it/s]\n",
      "evaluating....: 100%|██████████| 49/49 [00:08<00:00,  6.03it/s]\n",
      "epoch: 13\n",
      "train_loss: 0.307, train_acc: 0.883\n",
      "valid_loss: 0.491, valid_acc: 0.762\n",
      "training....: 100%|██████████| 37/37 [00:07<00:00,  4.99it/s]\n",
      "evaluating....: 100%|██████████| 49/49 [00:08<00:00,  6.02it/s]\n",
      "epoch: 14\n",
      "train_loss: 0.295, train_acc: 0.886\n",
      "valid_loss: 0.497, valid_acc: 0.756\n",
      "training....: 100%|██████████| 37/37 [00:07<00:00,  4.76it/s]\n",
      "evaluating....: 100%|██████████| 49/49 [00:07<00:00,  6.16it/s]\n",
      "epoch: 15\n",
      "train_loss: 0.286, train_acc: 0.892\n",
      "valid_loss: 0.506, valid_acc: 0.754\n",
      "training....: 100%|██████████| 37/37 [00:07<00:00,  4.95it/s]\n",
      "evaluating....: 100%|██████████| 49/49 [00:07<00:00,  6.15it/s]\n",
      "epoch: 16\n",
      "train_loss: 0.277, train_acc: 0.896\n",
      "valid_loss: 0.511, valid_acc: 0.752\n",
      "training....: 100%|██████████| 37/37 [00:07<00:00,  5.00it/s]\n",
      "evaluating....: 100%|██████████| 49/49 [00:07<00:00,  6.15it/s]\n",
      "epoch: 17\n",
      "train_loss: 0.267, train_acc: 0.900\n",
      "valid_loss: 0.522, valid_acc: 0.751\n",
      "training....: 100%|██████████| 37/37 [00:07<00:00,  4.80it/s]\n",
      "evaluating....: 100%|██████████| 49/49 [00:08<00:00,  6.07it/s]\n",
      "epoch: 18\n",
      "train_loss: 0.260, train_acc: 0.903\n",
      "valid_loss: 0.528, valid_acc: 0.749\n",
      "training....: 100%|██████████| 37/37 [00:07<00:00,  5.01it/s]\n",
      "evaluating....: 100%|██████████| 49/49 [00:07<00:00,  6.13it/s]\n",
      "epoch: 19\n",
      "train_loss: 0.250, train_acc: 0.908\n",
      "valid_loss: 0.538, valid_acc: 0.746\n",
      "training....: 100%|██████████| 37/37 [00:07<00:00,  4.98it/s]\n",
      "evaluating....: 100%|██████████| 49/49 [00:07<00:00,  6.17it/s]\n",
      "epoch: 20\n",
      "train_loss: 0.244, train_acc: 0.912\n",
      "valid_loss: 0.548, valid_acc: 0.744\n"
     ]
    }
   ],
   "source": [
    "n_epochs = 20\n",
    "best_valid_loss = float('inf')\n",
    "\n",
    "train_losses = []\n",
    "train_accs = []\n",
    "valid_losses = []\n",
    "valid_accs = []\n",
    "\n",
    "for epoch in range(n_epochs):\n",
    "\n",
    "    train_loss, train_acc = train(iterator=train_dataloader, model=model, lossfunction=criterion, optimizer=optimizer)\n",
    "    valid_loss, valid_acc = eval(iterator=valid_dataloader, model=model, lossfunction=criterion)\n",
    "\n",
    "    train_losses=train_losses+train_loss\n",
    "    train_accs=train_accs+train_acc\n",
    "    valid_losses=valid_losses+valid_loss\n",
    "    valid_accs=valid_accs+valid_acc\n",
    "\n",
    "    epoch_train_loss = np.mean(train_loss)\n",
    "    epoch_train_acc = np.mean(train_acc)\n",
    "    epoch_valid_loss = np.mean(valid_loss)\n",
    "    epoch_valid_acc = np.mean(valid_acc)\n",
    "\n",
    "    if epoch_valid_loss < best_valid_loss:\n",
    "        best_valid_loss = epoch_valid_loss\n",
    "        torch.save(model.state_dict(), r'D:\\Python\\Python_Project\\Python LSTM\\Sentiment Analysis （LSTM　CNN　RNN）\\nbow.pt')\n",
    "\n",
    "    print(f'epoch: {epoch+1}')\n",
    "    print(f'train_loss: {epoch_train_loss:.3f}, train_acc: {epoch_train_acc:.3f}')\n",
    "    print(f'valid_loss: {epoch_valid_loss:.3f}, valid_acc: {epoch_valid_acc:.3f}')"
   ]
  },
  {
   "cell_type": "code",
   "execution_count": 96,
   "outputs": [
    {
     "data": {
      "text/plain": "<matplotlib.legend.Legend at 0x2872fa2da00>"
     },
     "execution_count": 96,
     "metadata": {},
     "output_type": "execute_result"
    },
    {
     "data": {
      "text/plain": "<Figure size 432x288 with 1 Axes>",
      "image/png": "[encoded data removed]"
     },
     "metadata": {
      "needs_background": "light"
     },
     "output_type": "display_data"
    }
   ],
   "source": [
    "plt.rc('font',family='Times New Roman',size=10)\n",
    "df = pd.DataFrame(train_losses, columns=['loss'])\n",
    "df2=pd.DataFrame(train_accs,columns=['accuracy'])\n",
    "plt.plot(range(len(train_losses)),df['loss'])\n",
    "plt.plot(range(len(train_accs)),df2['accuracy'])\n",
    "plt.legend(['loss','accuracy'])"
   ],
   "metadata": {
    "collapsed": false,
    "pycharm": {
     "name": "#%%\n"
    }
   }
  },
  {
   "cell_type": "code",
   "execution_count": 89,
   "outputs": [
    {
     "name": "stdout",
     "output_type": "stream",
     "text": [
      "evaluating....: 100%|██████████| 49/49 [00:06<00:00,  7.44it/s]\n",
      "test_loss: 0.478, test_acc: 0.773\n"
     ]
    }
   ],
   "source": [
    "model.load_state_dict(torch.load(r'D:\\Python\\Python_Project\\Python LSTM\\Sentiment Analysis （LSTM　CNN　RNN）\\nbow.pt'))\n",
    "\n",
    "test_loss, test_acc = eval(iterator=test_dataloader, model=model, lossfunction=criterion)\n",
    "epoch_test_loss = np.mean(test_loss)\n",
    "epoch_test_acc = np.mean(test_acc)\n",
    "print(f'test_loss: {epoch_test_loss:.3f}, test_acc: {epoch_test_acc:.3f}')"
   ],
   "metadata": {
    "collapsed": false,
    "pycharm": {
     "name": "#%%\n"
    }
   }
  },
  {
   "cell_type": "code",
   "execution_count": 92,
   "outputs": [],
   "source": [
    "def predict_sentiment(text, model, tokenizer, vocab):\n",
    "    tokens = tokenizer(text)\n",
    "    ids = [vocab[t] for t in tokens]\n",
    "    tensor = torch.LongTensor(ids).unsqueeze(dim=0)\n",
    "    prediction = model(tensor).squeeze(dim=0)\n",
    "    probability = torch.softmax(prediction, dim=-1)\n",
    "    predicted_class = prediction.argmax(dim=-1).item()\n",
    "    predicted_probability = probability[predicted_class].item()\n",
    "    return predicted_class, predicted_probability"
   ],
   "metadata": {
    "collapsed": false,
    "pycharm": {
     "name": "#%%\n"
    }
   }
  },
  {
   "cell_type": "code",
   "execution_count": 93,
   "outputs": [
    {
     "data": {
      "text/plain": "(0, 0.9997126460075378)"
     },
     "execution_count": 93,
     "metadata": {},
     "output_type": "execute_result"
    }
   ],
   "source": [
    "text = \"This film is terrible!\"\n",
    "predict_sentiment(text, model, tokenizer, vocab)"
   ],
   "metadata": {
    "collapsed": false,
    "pycharm": {
     "name": "#%%\n"
    }
   }
  }
 ],
 "metadata": {
  "kernelspec": {
   "display_name": "Python 3 (ipykernel)",
   "language": "python",
   "name": "python3"
  },
  "language_info": {
   "codemirror_mode": {
    "name": "ipython",
    "version": 3
   },
   "file_extension": ".py",
   "mimetype": "text/x-python",
   "name": "python",
   "nbconvert_exporter": "python",
   "pygments_lexer": "ipython3",
   "version": "3.8.12"
  }
 },
 "nbformat": 4,
 "nbformat_minor": 1
}